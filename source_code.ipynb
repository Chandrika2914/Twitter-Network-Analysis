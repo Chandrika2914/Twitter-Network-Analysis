{
  "cells": [
    {
      "cell_type": "markdown",
      "metadata": {
        "id": "DnnId0gCbllg"
      },
      "source": [
        "# Twitter Sentiment Analysis from the Stanford Network Analysis\n",
        "\n",
        "### Steps followed: \n",
        "##### Step 1: Downloading the dataset and  \n",
        "##### Step 2: Creating and analyzing the graph "
      ]
    },
    {
      "cell_type": "markdown",
      "metadata": {
        "id": "i84XAp0Wb1aX"
      },
      "source": [
        "## Step 1\n",
        "\n",
        "GZip application is used for compression and decompression of files. It is a part of GNU project. \n",
        "> Python’s gzip module is the interface to GZip application. The gzip data compression algorithm itself is based on zlib module.\n",
        "> The gzip module contains definition of GzipFile class along with its methods. \n",
        "> It also caontains convenience function open(), compress() and decompress().\n",
        "\n",
        "#### The dataset can be download from the stanford large network dataset collection. http://snap.stanford.edu/data/#socnets\n",
        "> The dataset we have choosen here Twitter.\n"
      ]
    },
    {
      "cell_type": "code",
      "execution_count": null,
      "metadata": {
        "id": "IKR5iCUa289A"
      },
      "outputs": [],
      "source": [
        "!gzip -d /content/twitter_combined.txt.gz"
      ]
    },
    {
      "cell_type": "markdown",
      "metadata": {
        "id": "RaC3qYugfH55"
      },
      "source": [
        "After decompress of the file, then we can observe the txt (text file) of **Twitter**\n",
        "> ***!head*** can use see the first line of text file or any file"
      ]
    },
    {
      "cell_type": "code",
      "execution_count": null,
      "metadata": {
        "colab": {
          "base_uri": "https://localhost:8080/"
        },
        "id": "FWEJDszU29JH",
        "outputId": "6ae4dce7-d3f6-4b68-9398-3bcd78e95165"
      },
      "outputs": [
        {
          "name": "stdout",
          "output_type": "stream",
          "text": [
            "214328887 34428380\n",
            "17116707 28465635\n",
            "380580781 18996905\n",
            "221036078 153460275\n",
            "107830991 17868918\n",
            "151338729 222261763\n",
            "19705747 34428380\n",
            "222261763 88323281\n",
            "19933035 149538028\n",
            "158419434 17434613\n"
          ]
        }
      ],
      "source": [
        "!head /content/twitter_combined.txt"
      ]
    },
    {
      "cell_type": "markdown",
      "metadata": {
        "id": "EOXyT_3UhrPN"
      },
      "source": [
        "### Importing the necessary libraries \n",
        "#### Numpy: \n",
        ">NumPy is a Python library used for working with arrays and also working in domain of linear algebra, fourier transform, and matrices.\n",
        ">In Python we have lists that serve the purpose of arrays, but they are slow to process. NumPy aims to provide an array object that is faster than traditional Python lists.\n",
        "\n",
        "#### Pandas:\n",
        ">Pandas is a software library written for the Python programming language for data manipulation and analysis.\n",
        "\n",
        "#### Netwrokx:\n",
        ">In NetworkX, nodes can be any hashable object e.g., a text string, an image, an XML object, another Graph, a customized node object, etc.\n",
        "Also NetworkX includes many graph generator functions and facilities to read and write graphs in many formats. "
      ]
    },
    {
      "cell_type": "code",
      "execution_count": null,
      "metadata": {
        "id": "tl_nB1-z22De"
      },
      "outputs": [],
      "source": [
        "import numpy as np\n",
        "import pandas as pd\n",
        "import matplotlib.pyplot as plt\n",
        "import networkx as nx\n",
        "\n",
        "# Show matplotlib charts in cells\n",
        "%matplotlib inline"
      ]
    },
    {
      "cell_type": "markdown",
      "metadata": {
        "id": "Y_foCIcMSnmb"
      },
      "source": [
        "## Step 2\n",
        "### Loading the dataset \n",
        "read_csv is an important pandas function to read csv files and do operations on it.\n",
        "The parameters are:\n",
        "\n",
        "***1) Filepath_or_bufferstr:*** Any valid string path is acceptable. \n",
        "\n",
        "***2) Sep:*** str, default ‘,’\n",
        "Delimiter to use. If sep is None, the C engine cannot automatically detect the separator.\n",
        "\n",
        "***3) Names:*** List of column names to use. If the file contains a header row, then you should explicitly pass ***header=0*** to override the column names.\n",
        "\n",
        "***4) Nrows:*** It helps select specific the number of rows of the files."
      ]
    },
    {
      "cell_type": "code",
      "execution_count": null,
      "metadata": {
        "id": "-fV1FnXVSqsg"
      },
      "outputs": [],
      "source": [
        "raw_dataset = pd.read_csv('/content/twitter_combined.txt', sep = ' ', names = ['Source','Destination'], header=0, nrows = 5500)"
      ]
    },
    {
      "cell_type": "code",
      "execution_count": null,
      "metadata": {
        "colab": {
          "base_uri": "https://localhost:8080/",
          "height": 195
        },
        "id": "4fkt6MapVYfZ",
        "outputId": "25631a4d-1850-406b-a9a8-7716b43b2fe6"
      },
      "outputs": [
        {
          "data": {
            "text/html": [
              "<div>\n",
              "<style scoped>\n",
              "    .dataframe tbody tr th:only-of-type {\n",
              "        vertical-align: middle;\n",
              "    }\n",
              "\n",
              "    .dataframe tbody tr th {\n",
              "        vertical-align: top;\n",
              "    }\n",
              "\n",
              "    .dataframe thead th {\n",
              "        text-align: right;\n",
              "    }\n",
              "</style>\n",
              "<table border=\"1\" class=\"dataframe\">\n",
              "  <thead>\n",
              "    <tr style=\"text-align: right;\">\n",
              "      <th></th>\n",
              "      <th>Source</th>\n",
              "      <th>Destination</th>\n",
              "    </tr>\n",
              "  </thead>\n",
              "  <tbody>\n",
              "    <tr>\n",
              "      <th>0</th>\n",
              "      <td>17116707</td>\n",
              "      <td>28465635</td>\n",
              "    </tr>\n",
              "    <tr>\n",
              "      <th>1</th>\n",
              "      <td>380580781</td>\n",
              "      <td>18996905</td>\n",
              "    </tr>\n",
              "    <tr>\n",
              "      <th>2</th>\n",
              "      <td>221036078</td>\n",
              "      <td>153460275</td>\n",
              "    </tr>\n",
              "    <tr>\n",
              "      <th>3</th>\n",
              "      <td>107830991</td>\n",
              "      <td>17868918</td>\n",
              "    </tr>\n",
              "    <tr>\n",
              "      <th>4</th>\n",
              "      <td>151338729</td>\n",
              "      <td>222261763</td>\n",
              "    </tr>\n",
              "  </tbody>\n",
              "</table>\n",
              "</div>"
            ],
            "text/plain": [
              "      Source  Destination\n",
              "0   17116707     28465635\n",
              "1  380580781     18996905\n",
              "2  221036078    153460275\n",
              "3  107830991     17868918\n",
              "4  151338729    222261763"
            ]
          },
          "execution_count": 216,
          "metadata": {
            "tags": []
          },
          "output_type": "execute_result"
        }
      ],
      "source": [
        "raw_dataset.head()"
      ]
    },
    {
      "cell_type": "markdown",
      "metadata": {
        "id": "-P54pjQcTd8s"
      },
      "source": [
        "### nx.from pandas edgelist\n",
        "Returns a graph from Pandas DataFrame containing an edge list.\n",
        "The Pandas DataFrame should contain at least two columns of node names and zero or more columns of edge attributes. Each row will be processed as one edge instance.\n",
        "\n",
        "Parameter are: \n",
        "\n",
        "**`df`** – An edge list representation of a graph.\n",
        "\n",
        "**`source`** – A valid column name for the source nodes (for the directed case).\n",
        "\n",
        "**`target`** – A valid column name for the target nodes (for the directed case).\n",
        "### DiGraph\n",
        "The `DiGraph` class to construct our network object. It is a ***directed graph***, this means that direction of edges is important. "
      ]
    },
    {
      "cell_type": "code",
      "execution_count": null,
      "metadata": {
        "id": "u3EXhJd2YUYj"
      },
      "outputs": [],
      "source": [
        "twitter = nx.from_pandas_edgelist(raw_dataset,'Source','Destination',create_using=nx.DiGraph)"
      ]
    },
    {
      "cell_type": "markdown",
      "metadata": {
        "id": "K_MZLUxpVqnd"
      },
      "source": [
        "> `info` - analyze the information of the graph.  "
      ]
    },
    {
      "cell_type": "code",
      "execution_count": null,
      "metadata": {
        "colab": {
          "base_uri": "https://localhost:8080/"
        },
        "id": "rWKRyURIZXn-",
        "outputId": "266c6a08-2cdc-456b-c68f-027101b71f17"
      },
      "outputs": [
        {
          "name": "stdout",
          "output_type": "stream",
          "text": [
            "Name: \n",
            "Type: DiGraph\n",
            "Number of nodes: 220\n",
            "Number of edges: 5500\n",
            "Average in degree:  25.0000\n",
            "Average out degree:  25.0000\n"
          ]
        }
      ],
      "source": [
        "print(nx.info(twitter))"
      ]
    },
    {
      "cell_type": "markdown",
      "metadata": {
        "id": "a54uTzmfWmBy"
      },
      "source": [
        "### Network Density\n",
        "\n",
        "A measure of how many edges a Graph has (i.e., of \"how complete\" is a graph).\n",
        "\n",
        "\n",
        "A more precise definition varies depending on type of graph and the context in which the question is asked: e.g., for a complete undirected graph the density is $1$, while for an empty graph it is $0$.\n",
        "\n",
        ">Directed graphs: $$D = \\frac{|E|}{|N|(|N|-1)}$$\n"
      ]
    },
    {
      "cell_type": "code",
      "execution_count": null,
      "metadata": {
        "colab": {
          "base_uri": "https://localhost:8080/"
        },
        "id": "EYCOfu6mZoee",
        "outputId": "f1b8e8e0-2a2d-46ee-d7e6-e81daeb7be71"
      },
      "outputs": [
        {
          "name": "stdout",
          "output_type": "stream",
          "text": [
            "The density of Twitter : 0.1141552511415525\n"
          ]
        }
      ],
      "source": [
        "Network_Density = nx.density(twitter)\n",
        "print('The density of Twitter :', Network_Density)"
      ]
    },
    {
      "cell_type": "markdown",
      "metadata": {
        "id": "w_j_3MFMZ4yG"
      },
      "source": [
        "### Centrality:\n",
        "`Who is more important user in the network?`\n",
        "\n",
        "For answer this question there are three measures for the centrality will be used: \n",
        "- Degree centrality\n",
        "- Closeness centrality\n",
        "- Betweness centrality\n",
        "\n"
      ]
    },
    {
      "cell_type": "markdown",
      "metadata": {
        "id": "NSqL3qG4MDND"
      },
      "source": [
        "#### Degree centrality\n",
        "The degree centrality for a node v is the fraction of nodes it is connected to.\n",
        "If the network is directed like, then two separate measures of degree centrality are defined: **indegree** and **outdegree**.  \n",
        "\n",
        "- ***`In-degree:`*** is a count of the number of ties directed to the node.\n",
        "\n",
        "- ***`out-degree:`*** is the number of ties that the node directs to others.\n",
        "\n",
        "In directed graphs, this measure helps distinguishing:\n",
        "\n",
        "- ***`Authorities:`*** nodes with the highest indegrees.\n",
        "\n",
        "- ***`Hubs:`*** nodes with the highest outdegrees"
      ]
    },
    {
      "cell_type": "code",
      "execution_count": null,
      "metadata": {
        "colab": {
          "base_uri": "https://localhost:8080/",
          "height": 213
        },
        "id": "PRB2TXUNaQdj",
        "outputId": "04bc2e6c-dda8-49d2-8af6-55ad57cb249a"
      },
      "outputs": [
        {
          "name": "stdout",
          "output_type": "stream",
          "text": [
            "Degree centrality is:\n"
          ]
        },
        {
          "data": {
            "text/html": [
              "<div>\n",
              "<style scoped>\n",
              "    .dataframe tbody tr th:only-of-type {\n",
              "        vertical-align: middle;\n",
              "    }\n",
              "\n",
              "    .dataframe tbody tr th {\n",
              "        vertical-align: top;\n",
              "    }\n",
              "\n",
              "    .dataframe thead th {\n",
              "        text-align: right;\n",
              "    }\n",
              "</style>\n",
              "<table border=\"1\" class=\"dataframe\">\n",
              "  <thead>\n",
              "    <tr style=\"text-align: right;\">\n",
              "      <th></th>\n",
              "      <th>Degree</th>\n",
              "      <th>Centrality</th>\n",
              "    </tr>\n",
              "  </thead>\n",
              "  <tbody>\n",
              "    <tr>\n",
              "      <th>0</th>\n",
              "      <td>40981798.0</td>\n",
              "      <td>0.515222</td>\n",
              "    </tr>\n",
              "    <tr>\n",
              "      <th>1</th>\n",
              "      <td>43003845.0</td>\n",
              "      <td>0.508197</td>\n",
              "    </tr>\n",
              "    <tr>\n",
              "      <th>2</th>\n",
              "      <td>153226312.0</td>\n",
              "      <td>0.463700</td>\n",
              "    </tr>\n",
              "    <tr>\n",
              "      <th>3</th>\n",
              "      <td>270449528.0</td>\n",
              "      <td>0.426230</td>\n",
              "    </tr>\n",
              "    <tr>\n",
              "      <th>4</th>\n",
              "      <td>83943787.0</td>\n",
              "      <td>0.416862</td>\n",
              "    </tr>\n",
              "  </tbody>\n",
              "</table>\n",
              "</div>"
            ],
            "text/plain": [
              "        Degree  Centrality\n",
              "0   40981798.0    0.515222\n",
              "1   43003845.0    0.508197\n",
              "2  153226312.0    0.463700\n",
              "3  270449528.0    0.426230\n",
              "4   83943787.0    0.416862"
            ]
          },
          "execution_count": 220,
          "metadata": {
            "tags": []
          },
          "output_type": "execute_result"
        }
      ],
      "source": [
        "print(\"Degree centrality is:\")\n",
        "\n",
        "degreecentrality = nx.degree_centrality(twitter)\n",
        "degreecentrality_sorted = {k: v for k, v in sorted(\n",
        "    degreecentrality.items(),\n",
        "    key=lambda item: item[1],\n",
        "    reverse=True\n",
        ")}\n",
        "# Degree Centrality\n",
        "degree_centrality = dc_sorted.items()\n",
        "degree_dataframe = pd.DataFrame(columns=['Degree', 'Centrality'])\n",
        "for node, close in degree_centrality:\n",
        "  degree_dataframe = degree_dataframe.append({\n",
        "      'Degree': node,\n",
        "      'Centrality': close,\n",
        "  }, ignore_index=True)\n",
        "\n",
        "# observing the head of the dataframe.\n",
        "degree_dataframe.head(5)"
      ]
    },
    {
      "cell_type": "markdown",
      "metadata": {
        "id": "Y1hCIXuv-bjV"
      },
      "source": [
        "#### In-Degree Centrality:\n",
        "Count the number of ties directed to the node."
      ]
    },
    {
      "cell_type": "code",
      "execution_count": null,
      "metadata": {
        "colab": {
          "base_uri": "https://localhost:8080/",
          "height": 213
        },
        "id": "7ArZ9s3NeqRr",
        "outputId": "a93da21f-e437-4fff-ad35-f622e5de4afc"
      },
      "outputs": [
        {
          "name": "stdout",
          "output_type": "stream",
          "text": [
            "In-degree centrality\n"
          ]
        },
        {
          "data": {
            "text/html": [
              "<div>\n",
              "<style scoped>\n",
              "    .dataframe tbody tr th:only-of-type {\n",
              "        vertical-align: middle;\n",
              "    }\n",
              "\n",
              "    .dataframe tbody tr th {\n",
              "        vertical-align: top;\n",
              "    }\n",
              "\n",
              "    .dataframe thead th {\n",
              "        text-align: right;\n",
              "    }\n",
              "</style>\n",
              "<table border=\"1\" class=\"dataframe\">\n",
              "  <thead>\n",
              "    <tr style=\"text-align: right;\">\n",
              "      <th></th>\n",
              "      <th>In-degree</th>\n",
              "      <th>Centrality</th>\n",
              "    </tr>\n",
              "  </thead>\n",
              "  <tbody>\n",
              "    <tr>\n",
              "      <th>0</th>\n",
              "      <td>40981798.0</td>\n",
              "      <td>0.538813</td>\n",
              "    </tr>\n",
              "    <tr>\n",
              "      <th>1</th>\n",
              "      <td>22462180.0</td>\n",
              "      <td>0.502283</td>\n",
              "    </tr>\n",
              "    <tr>\n",
              "      <th>2</th>\n",
              "      <td>43003845.0</td>\n",
              "      <td>0.493151</td>\n",
              "    </tr>\n",
              "    <tr>\n",
              "      <th>3</th>\n",
              "      <td>34428380.0</td>\n",
              "      <td>0.447489</td>\n",
              "    </tr>\n",
              "    <tr>\n",
              "      <th>4</th>\n",
              "      <td>18996905.0</td>\n",
              "      <td>0.378995</td>\n",
              "    </tr>\n",
              "  </tbody>\n",
              "</table>\n",
              "</div>"
            ],
            "text/plain": [
              "    In-degree  Centrality\n",
              "0  40981798.0    0.538813\n",
              "1  22462180.0    0.502283\n",
              "2  43003845.0    0.493151\n",
              "3  34428380.0    0.447489\n",
              "4  18996905.0    0.378995"
            ]
          },
          "execution_count": 221,
          "metadata": {
            "tags": []
          },
          "output_type": "execute_result"
        }
      ],
      "source": [
        "print(\"In-degree centrality\")\n",
        "in_dc = nx.in_degree_centrality(twitter)\n",
        "in_dc_sorted = {k: v for k, v in sorted(\n",
        "    in_dc.items(),\n",
        "    key=lambda item: item[1],\n",
        "    reverse=True\n",
        ")}\n",
        "# In degree centrality:\n",
        "in_degree = in_dc_sorted.items()\n",
        "in_degree_df = pd.DataFrame(columns=['In-degree', 'Centrality'])\n",
        "for node, close in in_degree:\n",
        "  in_degree_df = in_degree_df.append({\n",
        "      'In-degree': node,\n",
        "      'Centrality': close,\n",
        "  }, ignore_index=True)\n",
        "\n",
        "# observing the head of the dataframe.\n",
        "in_degree_df.head(5)"
      ]
    },
    {
      "cell_type": "markdown",
      "metadata": {
        "id": "EGgFbWzdE8WQ"
      },
      "source": [
        "#### Out-Degree Centrality:\n",
        "The number of ties that the node directs to others"
      ]
    },
    {
      "cell_type": "code",
      "execution_count": null,
      "metadata": {
        "colab": {
          "base_uri": "https://localhost:8080/",
          "height": 378
        },
        "id": "4fTCJ_8070Ad",
        "outputId": "9550abf2-2ddc-4c19-9cdb-7535f5277896"
      },
      "outputs": [
        {
          "name": "stdout",
          "output_type": "stream",
          "text": [
            "\n",
            " Out-degree centrality\n"
          ]
        },
        {
          "data": {
            "text/html": [
              "<div>\n",
              "<style scoped>\n",
              "    .dataframe tbody tr th:only-of-type {\n",
              "        vertical-align: middle;\n",
              "    }\n",
              "\n",
              "    .dataframe tbody tr th {\n",
              "        vertical-align: top;\n",
              "    }\n",
              "\n",
              "    .dataframe thead th {\n",
              "        text-align: right;\n",
              "    }\n",
              "</style>\n",
              "<table border=\"1\" class=\"dataframe\">\n",
              "  <thead>\n",
              "    <tr style=\"text-align: right;\">\n",
              "      <th></th>\n",
              "      <th>Out-degree</th>\n",
              "      <th>Centrality</th>\n",
              "    </tr>\n",
              "  </thead>\n",
              "  <tbody>\n",
              "    <tr>\n",
              "      <th>0</th>\n",
              "      <td>153226312.0</td>\n",
              "      <td>0.406393</td>\n",
              "    </tr>\n",
              "    <tr>\n",
              "      <th>1</th>\n",
              "      <td>279787626.0</td>\n",
              "      <td>0.365297</td>\n",
              "    </tr>\n",
              "    <tr>\n",
              "      <th>2</th>\n",
              "      <td>100581193.0</td>\n",
              "      <td>0.351598</td>\n",
              "    </tr>\n",
              "    <tr>\n",
              "      <th>3</th>\n",
              "      <td>358775055.0</td>\n",
              "      <td>0.342466</td>\n",
              "    </tr>\n",
              "    <tr>\n",
              "      <th>4</th>\n",
              "      <td>463952369.0</td>\n",
              "      <td>0.315068</td>\n",
              "    </tr>\n",
              "    <tr>\n",
              "      <th>5</th>\n",
              "      <td>270449528.0</td>\n",
              "      <td>0.305936</td>\n",
              "    </tr>\n",
              "    <tr>\n",
              "      <th>6</th>\n",
              "      <td>461410856.0</td>\n",
              "      <td>0.305936</td>\n",
              "    </tr>\n",
              "    <tr>\n",
              "      <th>7</th>\n",
              "      <td>134940306.0</td>\n",
              "      <td>0.305936</td>\n",
              "    </tr>\n",
              "    <tr>\n",
              "      <th>8</th>\n",
              "      <td>394263193.0</td>\n",
              "      <td>0.292237</td>\n",
              "    </tr>\n",
              "    <tr>\n",
              "      <th>9</th>\n",
              "      <td>236184723.0</td>\n",
              "      <td>0.283105</td>\n",
              "    </tr>\n",
              "  </tbody>\n",
              "</table>\n",
              "</div>"
            ],
            "text/plain": [
              "    Out-degree  Centrality\n",
              "0  153226312.0    0.406393\n",
              "1  279787626.0    0.365297\n",
              "2  100581193.0    0.351598\n",
              "3  358775055.0    0.342466\n",
              "4  463952369.0    0.315068\n",
              "5  270449528.0    0.305936\n",
              "6  461410856.0    0.305936\n",
              "7  134940306.0    0.305936\n",
              "8  394263193.0    0.292237\n",
              "9  236184723.0    0.283105"
            ]
          },
          "execution_count": 222,
          "metadata": {
            "tags": []
          },
          "output_type": "execute_result"
        }
      ],
      "source": [
        "print(\"\\n Out-degree centrality\")\n",
        "out_dc = nx.out_degree_centrality(twitter)\n",
        "out_dc_sorted = {k: v for k, v in sorted(\n",
        "    out_dc.items(),\n",
        "    key=lambda item: item[1],\n",
        "    reverse=True\n",
        ")}\n",
        "\n",
        "out_degree = out_dc_sorted.items()\n",
        "out_degree_df = pd.DataFrame(columns=['Out-degree', 'Centrality'])\n",
        "for node, close in out_degree:\n",
        "  out_degree_df = out_degree_df.append({\n",
        "      'Out-degree': node,\n",
        "      'Centrality': close,\n",
        "  }, ignore_index=True)\n",
        "\n",
        "out_degree_df.head(10)"
      ]
    },
    {
      "cell_type": "markdown",
      "metadata": {
        "id": "COcDOQQEFWjE"
      },
      "source": [
        "#### Hubs"
      ]
    },
    {
      "cell_type": "code",
      "execution_count": null,
      "metadata": {
        "colab": {
          "base_uri": "https://localhost:8080/",
          "height": 343
        },
        "id": "3EQ-Pfbg779y",
        "outputId": "224edafc-4018-429e-e3cf-970ff593a742"
      },
      "outputs": [
        {
          "data": {
            "text/html": [
              "<div>\n",
              "<style scoped>\n",
              "    .dataframe tbody tr th:only-of-type {\n",
              "        vertical-align: middle;\n",
              "    }\n",
              "\n",
              "    .dataframe tbody tr th {\n",
              "        vertical-align: top;\n",
              "    }\n",
              "\n",
              "    .dataframe thead th {\n",
              "        text-align: right;\n",
              "    }\n",
              "</style>\n",
              "<table border=\"1\" class=\"dataframe\">\n",
              "  <thead>\n",
              "    <tr style=\"text-align: right;\">\n",
              "      <th></th>\n",
              "      <th>Hubs</th>\n",
              "    </tr>\n",
              "  </thead>\n",
              "  <tbody>\n",
              "    <tr>\n",
              "      <th>0</th>\n",
              "      <td>(153226312, 89)</td>\n",
              "    </tr>\n",
              "    <tr>\n",
              "      <th>1</th>\n",
              "      <td>(279787626, 80)</td>\n",
              "    </tr>\n",
              "    <tr>\n",
              "      <th>2</th>\n",
              "      <td>(100581193, 77)</td>\n",
              "    </tr>\n",
              "    <tr>\n",
              "      <th>3</th>\n",
              "      <td>(358775055, 75)</td>\n",
              "    </tr>\n",
              "    <tr>\n",
              "      <th>4</th>\n",
              "      <td>(463952369, 69)</td>\n",
              "    </tr>\n",
              "    <tr>\n",
              "      <th>5</th>\n",
              "      <td>(270449528, 67)</td>\n",
              "    </tr>\n",
              "    <tr>\n",
              "      <th>6</th>\n",
              "      <td>(461410856, 67)</td>\n",
              "    </tr>\n",
              "    <tr>\n",
              "      <th>7</th>\n",
              "      <td>(134940306, 67)</td>\n",
              "    </tr>\n",
              "    <tr>\n",
              "      <th>8</th>\n",
              "      <td>(394263193, 64)</td>\n",
              "    </tr>\n",
              "    <tr>\n",
              "      <th>9</th>\n",
              "      <td>(236184723, 62)</td>\n",
              "    </tr>\n",
              "  </tbody>\n",
              "</table>\n",
              "</div>"
            ],
            "text/plain": [
              "              Hubs\n",
              "0  (153226312, 89)\n",
              "1  (279787626, 80)\n",
              "2  (100581193, 77)\n",
              "3  (358775055, 75)\n",
              "4  (463952369, 69)\n",
              "5  (270449528, 67)\n",
              "6  (461410856, 67)\n",
              "7  (134940306, 67)\n",
              "8  (394263193, 64)\n",
              "9  (236184723, 62)"
            ]
          },
          "execution_count": 223,
          "metadata": {
            "tags": []
          },
          "output_type": "execute_result"
        }
      ],
      "source": [
        "hubs = sorted(\n",
        "    twitter.out_degree,\n",
        "    key=lambda x: x[1],\n",
        "    reverse=True\n",
        ")[:10]\n",
        "\n",
        "df_hubs = pd.DataFrame(columns=['Hubs'])\n",
        "\n",
        "for h in hubs:\n",
        "  df_hubs = df_hubs.append({\n",
        "      'Hubs': h\n",
        "  }, ignore_index=True)\n",
        "# The hubs \n",
        "df_hubs"
      ]
    },
    {
      "cell_type": "markdown",
      "metadata": {
        "id": "87-T0DMtWfwm"
      },
      "source": [
        "#### Authorities "
      ]
    },
    {
      "cell_type": "code",
      "execution_count": null,
      "metadata": {
        "colab": {
          "base_uri": "https://localhost:8080/",
          "height": 343
        },
        "id": "8DUPSO6VMpKF",
        "outputId": "c958406b-65fd-4e9c-b315-8a7b0fbb0082"
      },
      "outputs": [
        {
          "data": {
            "text/html": [
              "<div>\n",
              "<style scoped>\n",
              "    .dataframe tbody tr th:only-of-type {\n",
              "        vertical-align: middle;\n",
              "    }\n",
              "\n",
              "    .dataframe tbody tr th {\n",
              "        vertical-align: top;\n",
              "    }\n",
              "\n",
              "    .dataframe thead th {\n",
              "        text-align: right;\n",
              "    }\n",
              "</style>\n",
              "<table border=\"1\" class=\"dataframe\">\n",
              "  <thead>\n",
              "    <tr style=\"text-align: right;\">\n",
              "      <th></th>\n",
              "      <th>Authorities</th>\n",
              "    </tr>\n",
              "  </thead>\n",
              "  <tbody>\n",
              "    <tr>\n",
              "      <th>0</th>\n",
              "      <td>(40981798, 118)</td>\n",
              "    </tr>\n",
              "    <tr>\n",
              "      <th>1</th>\n",
              "      <td>(22462180, 110)</td>\n",
              "    </tr>\n",
              "    <tr>\n",
              "      <th>2</th>\n",
              "      <td>(43003845, 108)</td>\n",
              "    </tr>\n",
              "    <tr>\n",
              "      <th>3</th>\n",
              "      <td>(34428380, 98)</td>\n",
              "    </tr>\n",
              "    <tr>\n",
              "      <th>4</th>\n",
              "      <td>(18996905, 83)</td>\n",
              "    </tr>\n",
              "    <tr>\n",
              "      <th>5</th>\n",
              "      <td>(31331740, 78)</td>\n",
              "    </tr>\n",
              "    <tr>\n",
              "      <th>6</th>\n",
              "      <td>(83943787, 75)</td>\n",
              "    </tr>\n",
              "    <tr>\n",
              "      <th>7</th>\n",
              "      <td>(28465635, 72)</td>\n",
              "    </tr>\n",
              "    <tr>\n",
              "      <th>8</th>\n",
              "      <td>(27633075, 72)</td>\n",
              "    </tr>\n",
              "    <tr>\n",
              "      <th>9</th>\n",
              "      <td>(151338729, 71)</td>\n",
              "    </tr>\n",
              "  </tbody>\n",
              "</table>\n",
              "</div>"
            ],
            "text/plain": [
              "       Authorities\n",
              "0  (40981798, 118)\n",
              "1  (22462180, 110)\n",
              "2  (43003845, 108)\n",
              "3   (34428380, 98)\n",
              "4   (18996905, 83)\n",
              "5   (31331740, 78)\n",
              "6   (83943787, 75)\n",
              "7   (28465635, 72)\n",
              "8   (27633075, 72)\n",
              "9  (151338729, 71)"
            ]
          },
          "execution_count": 224,
          "metadata": {
            "tags": []
          },
          "output_type": "execute_result"
        }
      ],
      "source": [
        "authorities = sorted(\n",
        "    twitter.in_degree,\n",
        "    key=lambda x: x[1],\n",
        "    reverse=True\n",
        ")[:10]\n",
        "\n",
        "df_authorities = pd.DataFrame(columns=['Authorities'])\n",
        "\n",
        "for a in authorities:\n",
        "  df_authorities = df_authorities.append({\n",
        "      'Authorities': a\n",
        "  }, ignore_index=True)\n",
        "\n",
        "# The authorities \n",
        "df_authorities"
      ]
    },
    {
      "cell_type": "markdown",
      "metadata": {
        "id": "v05b7hzYGCTB"
      },
      "source": [
        "#### Closeness centrality\n",
        "It considered important that node is relatively close to all other node"
      ]
    },
    {
      "cell_type": "code",
      "execution_count": null,
      "metadata": {
        "colab": {
          "base_uri": "https://localhost:8080/"
        },
        "id": "9hIUAYvL8Oe_",
        "outputId": "d5bf0ef0-6481-4545-d9c9-970ddf346a5a"
      },
      "outputs": [
        {
          "name": "stdout",
          "output_type": "stream",
          "text": [
            "\n",
            "Closeness centrality\n",
            "{40981798: 0.6416900478626836, 43003845: 0.6157257106659276, 22462180: 0.6035158523807675, 34428380: 0.5901415398626342, 18996905: 0.5636007827788649, 31331740: 0.5504937878305193, 17868918: 0.5379825653798256, 83943787: 0.5379825653798256, 28465635: 0.5339375836852405, 8088112: 0.5326027397260275, 151338729: 0.5312745533426707, 133055665: 0.5273294452732945, 56860418: 0.5247317632768743, 19493072: 0.5196124290010024, 259842341: 0.5183481651834817, 195475105: 0.5183481651834817, 27633075: 0.5133520382901469, 19358562: 0.5133520382901469, 117674417: 0.512118018967334, 187773078: 0.5084513028410763, 158419434: 0.5072407045009784, 314316607: 0.5072407045009784, 69592091: 0.5060358572218788, 26929220: 0.5060358572218788, 2367911: 0.5060358572218788, 116036694: 0.5048367201194571, 276706356: 0.503643252696007, 204140367: 0.503643252696007, 307458983: 0.5024554148358749, 153226312: 0.5012731668009669, 14925700: 0.4989252831157165, 157829215: 0.4989252831157165, 121533789: 0.4942948860566379, 103598216: 0.4931506849315068, 131613362: 0.49087810112997915, 380580781: 0.4897496457250826, 254839786: 0.4897496457250826, 17759158: 0.4897496457250826, 461410856: 0.488626366721126, 88323281: 0.4875082285821761, 149538028: 0.4875082285821761, 172883064: 0.4830863852390271, 37699718: 0.4830863852390271, 206923844: 0.48199342961631436, 270449528: 0.4809054083304988, 200559228: 0.47767061858836535, 18951737: 0.47767061858836535, 124528830: 0.4744790554352137, 15023872: 0.4734246575342465, 280935165: 0.47237493545545667, 123371682: 0.47237493545545667, 204317520: 0.471329858164626, 222261763: 0.4702893949015694, 86221475: 0.4702893949015694, 430313102: 0.4692535151771166, 274153775: 0.4661730763466323, 72818790: 0.4661730763466323, 439788025: 0.4661730763466323, 46209291: 0.4661730763466323, 107830991: 0.4651552312017706, 19705747: 0.4631328171530673, 145845459: 0.4631328171530673, 8163442: 0.46212819065165067, 160237722: 0.45914029286726493, 225444667: 0.45914029286726493, 6581292: 0.45716973367040975, 67864340: 0.45521601685985247, 196327549: 0.45327892742640624, 358775055: 0.452316551784312, 134940306: 0.452316551784312, 430268163: 0.4494537887983353, 257236842: 0.4494537887983353, 21548772: 0.448507570295602, 258140947: 0.448507570295602, 17116707: 0.4475653275008633, 27077521: 0.4475653275008633, 214328887: 0.4456926692268012, 248883350: 0.44476220436411473, 70492333: 0.44291288126904566, 116498875: 0.4410788734791117, 297801196: 0.43925999152662054, 220368467: 0.43925999152662054, 261447035: 0.43925999152662054, 406628822: 0.4383561643835616, 276577539: 0.4374560490562853, 112939321: 0.43655962272625193, 276308596: 0.43566686276157657, 29911100: 0.43389225232262923, 394263193: 0.4330103575008353, 153460275: 0.43125727913038653, 238201669: 0.43125727913038653, 100581193: 0.4295183384887318, 17675120: 0.4295183384887318, 54228724: 0.4295183384887318, 463952369: 0.4295183384887318, 55033682: 0.4291781733336979, 17434613: 0.4286541164797001, 451250774: 0.42779336524178907, 292598082: 0.4260821917808219, 229425177: 0.42438465316814933, 83417972: 0.4235409461041967, 166214735: 0.4227005870841487, 152388029: 0.4227005870841487, 226629405: 0.4218635562186355, 285312927: 0.42019940017832536, 117901353: 0.42019940017832536, 95260836: 0.42019940017832536, 15150609: 0.419372236004746, 294752666: 0.419372236004746, 170460311: 0.419372236004746, 437804658: 0.41854832198509023, 125120339: 0.4177276390008058, 236184723: 0.4177276390008058, 231238695: 0.4160958904109589, 197504076: 0.4160958904109589, 279787626: 0.4152847873107426, 155661154: 0.4144768402537178, 46831674: 0.4144768402537178, 163238842: 0.41207175220582387, 460282402: 0.4112762468926852, 252770012: 0.4112762468926852, 262340283: 0.4104838071106184, 35415466: 0.40969441517386723, 262802533: 0.4089080535324586, 74107696: 0.4089080535324586, 273149543: 0.40877997117905446, 221036078: 0.4081247047709022, 31414569: 0.4073443516069043, 30971165: 0.40579256360078275, 19933035: 0.40502109484869003, 529007327: 0.40502109484869003, 447688115: 0.40502109484869003, 35359596: 0.4042525538717475, 186212304: 0.40348692403486924, 236143101: 0.40272418882875416, 288485704: 0.4019643318686999, 57490887: 0.40045318776393035, 203338499: 0.40045318776393035, 17627996: 0.40045318776393035, 94621855: 0.3997018684623095, 233248636: 0.3989533630906572, 16870853: 0.3974647311388264, 283306479: 0.3952524970137494, 265077741: 0.39452054794520547, 115221382: 0.3937913047881903, 222411742: 0.3937913047881903, 239144776: 0.3937913047881903, 148519842: 0.3916196615632554, 226165839: 0.3916196615632554, 113058991: 0.38876112388761125, 400689940: 0.38876112388761125, 247741328: 0.3880529979788906, 109740608: 0.3873474470734744, 189875309: 0.3873474470734744, 333161611: 0.38594401429422276, 43640117: 0.3838578304331729, 250340951: 0.3824795258355672, 250178329: 0.3804305283757339, 220068522: 0.3797523990916416, 59588845: 0.3797523990916416, 355823615: 0.37773243952200525, 282206645: 0.3770638865317008, 375317198: 0.3770638865317008, 9695312: 0.37573385518590996, 364971269: 0.37310174411630637, 88097807: 0.3717994692677329, 53222305: 0.3717994692677329, 37270037: 0.37115173500071597, 213777144: 0.36858321088306395, 16503181: 0.36858321088306395, 33612973: 0.3666800273501049, 28019653: 0.36479639707262146, 21272026: 0.3592598581625817, 236026868: 0.3586550435865504, 63941463: 0.3586550435865504, 368018677: 0.3583637747336378, 271602109: 0.35039653929343906, 57828817: 0.3486760980203125, 107511013: 0.34810636583400484, 200884513: 0.34810636583400484, 299715516: 0.34416978334476733, 21146135: 0.34250980046689866, 31457243: 0.34250980046689866, 179138862: 0.3419600255062776, 45333725: 0.3370903415987515, 254610699: 0.33444442055009566, 49104918: 0.3339202129943745, 31317273: 0.33287671232876714, 260705759: 0.33183971322493916, 100052945: 0.32775553213909375, 324201646: 0.3267501470711824, 222090651: 0.3267501470711824, 41472982: 0.3262497639975665, 170167167: 0.3257509111474174, 102765423: 0.3203625502111443, 253091523: 0.31749790743727413, 260769396: 0.3160847120035771, 120599128: 0.315149550133744, 35148062: 0.31237697344635035, 413275344: 0.3078628553329638, 86799233: 0.3060935285781767, 272173354: 0.3026151930261519, 83155222: 0.30005788153579005, 349413327: 0.29963585919889024, 105259389: 0.2975434300145404, 375228586: 0.2954800220394049, 215787132: 0.2934450356617231, 73738774: 0.29024672464633644, 31246395: 0.28945801072066707, 312284236: 0.287504852753591, 477094958: 0.2806865558503438, 128721580: 0.27524689391525964, 83032174: 0.27453749470413785, 93224416: 0.27243106891356894, 207594668: 0.2676395677015213, 309782398: 0.2639914447216988, 451493376: 0.2569856403985657, 287915525: 0.24292029177925992, 81446304: 0.0, 33806113: 0.0}\n"
          ]
        }
      ],
      "source": [
        "print(\"\\nCloseness centrality\")\n",
        "cc = nx.closeness_centrality(twitter)\n",
        "cc_sorted = {k: v for k, v in sorted(\n",
        "    cc.items(),\n",
        "    key=lambda item: item[1],\n",
        "    reverse=True\n",
        ")}\n",
        "\n",
        "c_cent = cc_sorted.items()\n",
        "cc_df = pd.DataFrame(columns=['Closeness', 'Centrality'])\n",
        "for node, close in c_cent:\n",
        "  cc_df = cc_df.append({\n",
        "      'Closeness': node,\n",
        "      'Centrality': close,\n",
        "  }, ignore_index=True)\n",
        "\n",
        "\n",
        "cores = cc_sorted\n",
        "print(cores) \n",
        "\n",
        "\n"
      ]
    },
    {
      "cell_type": "markdown",
      "metadata": {
        "id": "308091c9Kay5"
      },
      "source": [
        "#### Betweenness centrality\n",
        "- Betweenness centrality quantifies the number of times a node acts as a bridge along the shortest path between two other nodes.\n",
        "- It is a measure of centrality in a graph based on shortest paths and for each vertex is the number of these shortest paths that pass through the vertex."
      ]
    },
    {
      "cell_type": "code",
      "execution_count": null,
      "metadata": {
        "colab": {
          "base_uri": "https://localhost:8080/",
          "height": 378
        },
        "id": "kGnhr-em8UFy",
        "outputId": "cf596260-cf71-461b-e53c-ef364462f081"
      },
      "outputs": [
        {
          "name": "stdout",
          "output_type": "stream",
          "text": [
            "\n",
            "Betweenness centrality\n"
          ]
        },
        {
          "data": {
            "text/html": [
              "<div>\n",
              "<style scoped>\n",
              "    .dataframe tbody tr th:only-of-type {\n",
              "        vertical-align: middle;\n",
              "    }\n",
              "\n",
              "    .dataframe tbody tr th {\n",
              "        vertical-align: top;\n",
              "    }\n",
              "\n",
              "    .dataframe thead th {\n",
              "        text-align: right;\n",
              "    }\n",
              "</style>\n",
              "<table border=\"1\" class=\"dataframe\">\n",
              "  <thead>\n",
              "    <tr style=\"text-align: right;\">\n",
              "      <th></th>\n",
              "      <th>User</th>\n",
              "      <th>Centrality</th>\n",
              "    </tr>\n",
              "  </thead>\n",
              "  <tbody>\n",
              "    <tr>\n",
              "      <th>0</th>\n",
              "      <td>43003845.0</td>\n",
              "      <td>0.061440</td>\n",
              "    </tr>\n",
              "    <tr>\n",
              "      <th>1</th>\n",
              "      <td>461410856.0</td>\n",
              "      <td>0.055742</td>\n",
              "    </tr>\n",
              "    <tr>\n",
              "      <th>2</th>\n",
              "      <td>40981798.0</td>\n",
              "      <td>0.053777</td>\n",
              "    </tr>\n",
              "    <tr>\n",
              "      <th>3</th>\n",
              "      <td>28465635.0</td>\n",
              "      <td>0.050971</td>\n",
              "    </tr>\n",
              "    <tr>\n",
              "      <th>4</th>\n",
              "      <td>88323281.0</td>\n",
              "      <td>0.041414</td>\n",
              "    </tr>\n",
              "    <tr>\n",
              "      <th>5</th>\n",
              "      <td>153226312.0</td>\n",
              "      <td>0.037795</td>\n",
              "    </tr>\n",
              "    <tr>\n",
              "      <th>6</th>\n",
              "      <td>2367911.0</td>\n",
              "      <td>0.036555</td>\n",
              "    </tr>\n",
              "    <tr>\n",
              "      <th>7</th>\n",
              "      <td>186212304.0</td>\n",
              "      <td>0.033887</td>\n",
              "    </tr>\n",
              "    <tr>\n",
              "      <th>8</th>\n",
              "      <td>158419434.0</td>\n",
              "      <td>0.032632</td>\n",
              "    </tr>\n",
              "    <tr>\n",
              "      <th>9</th>\n",
              "      <td>276706356.0</td>\n",
              "      <td>0.030688</td>\n",
              "    </tr>\n",
              "  </tbody>\n",
              "</table>\n",
              "</div>"
            ],
            "text/plain": [
              "          User  Centrality\n",
              "0   43003845.0    0.061440\n",
              "1  461410856.0    0.055742\n",
              "2   40981798.0    0.053777\n",
              "3   28465635.0    0.050971\n",
              "4   88323281.0    0.041414\n",
              "5  153226312.0    0.037795\n",
              "6    2367911.0    0.036555\n",
              "7  186212304.0    0.033887\n",
              "8  158419434.0    0.032632\n",
              "9  276706356.0    0.030688"
            ]
          },
          "execution_count": 226,
          "metadata": {
            "tags": []
          },
          "output_type": "execute_result"
        }
      ],
      "source": [
        "print(\"\\nBetweenness centrality\")\n",
        "bc = nx.betweenness_centrality(twitter)\n",
        "bc_sorted = {k: v for k, v in sorted(\n",
        "    bc.items(),\n",
        "    key=lambda item: item[1],\n",
        "    reverse=True\n",
        ")}\n",
        "\n",
        "bc_cent = bc_sorted.items()\n",
        "bc_df = pd.DataFrame(columns=['User', 'Centrality'])\n",
        "for node, close in bc_cent:\n",
        "  bc_df = bc_df.append({\n",
        "      'User': node,\n",
        "      'Centrality': close,\n",
        "  }, ignore_index=True)\n",
        "\n",
        "bc_df.head(10)\n"
      ]
    },
    {
      "cell_type": "markdown",
      "metadata": {
        "id": "QzVT3tFEKksq"
      },
      "source": [
        "#### Gatekeepers\n",
        "\n",
        "Gatekeepers hold a critical position between other nodes that are not directly linked and thus, in a network, they are nodes that provide a connection, and serve as a bridge; their critical positions can naturally achieve a certain level of power.\n",
        "\n",
        "**Gatekeepers** are the nodes of a network that have *the highest betweenness centrality*."
      ]
    },
    {
      "cell_type": "code",
      "execution_count": null,
      "metadata": {
        "colab": {
          "base_uri": "https://localhost:8080/"
        },
        "id": "SXIiXssZ8by8",
        "outputId": "741eddea-3245-4cb4-cbf2-ebdadaed1ed8"
      },
      "outputs": [
        {
          "name": "stdout",
          "output_type": "stream",
          "text": [
            "Network gatekeepers:\n",
            "(43003845, 0.06143988272061368)\n",
            "(461410856, 0.05574222382504563)\n",
            "(40981798, 0.053776608742926606)\n"
          ]
        }
      ],
      "source": [
        "gatekeepers = sorted(nx.betweenness_centrality(twitter).items(),\n",
        "                     key = lambda x : x[1], \n",
        "                     reverse=True)[:3]\n",
        "\n",
        "print(\"Network gatekeepers:\")\n",
        "for g in gatekeepers:\n",
        "  print(g)"
      ]
    },
    {
      "cell_type": "markdown",
      "metadata": {
        "id": "YL6iJEpYNSg8"
      },
      "source": [
        "### Undirected Graph\n",
        "Transformed the direct graph into a undirect graph to analyze the data.\n"
      ]
    },
    {
      "cell_type": "code",
      "execution_count": null,
      "metadata": {
        "colab": {
          "base_uri": "https://localhost:8080/"
        },
        "id": "A99nTh-RVxRG",
        "outputId": "5c6ccf7f-382b-4a5d-9654-a172a8b0a4b9"
      },
      "outputs": [
        {
          "name": "stdout",
          "output_type": "stream",
          "text": [
            "\n",
            " Diameter: \n",
            " 4\n",
            "\n",
            " Average path length: \n",
            " 1.99\n"
          ]
        }
      ],
      "source": [
        "Undirected = twitter.to_undirected()\n",
        "connected_components = list(nx.connected_components(Undirected))\n",
        "# In this case, the component is only one\n",
        "connected_component = Undirected.subgraph(connected_components[0])\n",
        "diameter = nx.diameter(connected_component)\n",
        "avg_path = nx.average_shortest_path_length(connected_component)\n",
        "print(\"\\n Diameter: \\n\", diameter)\n",
        "print(\"\\n Average path length: \\n {:.2f}\".format(avg_path))"
      ]
    },
    {
      "cell_type": "markdown",
      "metadata": {
        "id": "D4SYORWpRvqL"
      },
      "source": [
        "### Cliques\n",
        "***Cliques:*** maximal, complete subgraphs:\n",
        "\n",
        "∀u,v∈S,∃(u,v)∈E , with  E  the set of edges of the graph.\n",
        "\n",
        ">A clique is a group of people where everybody is connected directly to everyone else.\n",
        "\n",
        "***N-cliques:*** a subgraph in which all nodes are connected and the maximum distance between two nodes is  N.\n",
        "\n",
        "The clique number of a graph is the size of the largest clique in the graph."
      ]
    },
    {
      "cell_type": "code",
      "execution_count": null,
      "metadata": {
        "colab": {
          "base_uri": "https://localhost:8080/"
        },
        "id": "ZZTGzjGAV5kj",
        "outputId": "5357f7cb-05aa-4b49-a1ed-e01dc3c1b699"
      },
      "outputs": [
        {
          "name": "stdout",
          "output_type": "stream",
          "text": [
            "\n",
            " Number of cliques in the network: \n",
            " 48235\n",
            "\n",
            " The First ten cliques in the network:\n",
            "0 [451493376, 287915525, 49104918, 73738774]\n",
            "1 [287915525, 253091523]\n",
            "2 [287915525, 49104918, 40981798]\n",
            "3 [287915525, 49104918, 260705759]\n",
            "4 [15150609, 93224416, 253091523]\n",
            "5 [15150609, 93224416, 17434613]\n",
            "6 [15150609, 93224416, 35148062]\n",
            "7 [15150609, 33806113]\n",
            "8 [15150609, 253091523, 100052945]\n",
            "9 [15150609, 253091523, 28465635]\n"
          ]
        }
      ],
      "source": [
        "from networkx.algorithms import approximation, clique\n",
        "n_of_cliques = clique.graph_number_of_cliques(Undirected)\n",
        "print(\"\\n Number of cliques in the network: \\n\", n_of_cliques)\n",
        "\n",
        "# Let's print some cliques\n",
        "print(\"\\n The First ten cliques in the network:\")\n",
        "all_cliques = clique.find_cliques(Undirected)\n",
        "twenty_cliques = list(all_cliques)\n",
        "for n,c in enumerate(twenty_cliques[:10]):\n",
        "  print(n,c)"
      ]
    },
    {
      "cell_type": "code",
      "execution_count": null,
      "metadata": {
        "colab": {
          "base_uri": "https://localhost:8080/"
        },
        "id": "H9CI-7e4WK3q",
        "outputId": "c8eba105-3468-4268-e6c4-b4de568cd3b5"
      },
      "outputs": [
        {
          "name": "stdout",
          "output_type": "stream",
          "text": [
            "\n",
            " The clique: \n",
            " {37699718, 200559228, 40981798}\n",
            "\n",
            " Clique number of the graph: \n",
            " 14\n"
          ]
        }
      ],
      "source": [
        "# Maximum clique\n",
        "max_clique = approximation.clique.max_clique(ego_network)\n",
        "print('\\n The clique: \\n', max_clique)\n",
        "\n",
        "# Clique number of the graph (size of the largest clique in the network)\n",
        "graph_clique_number = clique.graph_clique_number(Undirected)\n",
        "print('\\n Clique number of the graph: \\n', graph_clique_number)"
      ]
    },
    {
      "cell_type": "markdown",
      "metadata": {
        "id": "ODDWto9sTX1g"
      },
      "source": [
        "### Ego Networks\n",
        "Ego networks consist of a ***focal node***, or ***ego node***, and the nodes to whom ego is directly connected to (called alters) plus the ties, if any, among the alters."
      ]
    },
    {
      "cell_type": "code",
      "execution_count": null,
      "metadata": {
        "id": "F_4jwNz_NFN6"
      },
      "outputs": [],
      "source": [
        "ego = list(cores)[0]  #First node\n",
        "## Ego network\n",
        "ego_network = nx.ego_graph(twitter, ego)\n"
      ]
    },
    {
      "cell_type": "code",
      "execution_count": null,
      "metadata": {
        "colab": {
          "base_uri": "https://localhost:8080/",
          "height": 591
        },
        "id": "JW74XV1iNKiz",
        "outputId": "6e9bf64e-5efc-4a94-a076-4799f34952f9"
      },
      "outputs": [
        {
          "data": {
            "image/png": "[encoded data removed]",
            "text/plain": [
              "<Figure size 720x720 with 1 Axes>"
            ]
          },
          "metadata": {
            "tags": []
          },
          "output_type": "display_data"
        }
      ],
      "source": [
        "# ego network graph\n",
        "plt.figure(figsize=(10,10))\n",
        "ax = plt.gca()\n",
        "ax.set_title('Ego Network graph')\n",
        "\n",
        "labels = {}    \n",
        "for node in twitter.nodes():\n",
        "  if node == \"40981798\" or node == \"153226312\":\n",
        "    # set the node name as the key and the label as its value \n",
        "    labels[node] = node\n",
        "\n",
        "pos = nx.spring_layout(ego_network)\n",
        "nx.draw(ego_network, pos, node_color='g', node_size=60, with_labels=False)\n",
        "# Draw ego as large and red\n",
        "nx.draw_networkx_nodes(ego_network, pos, nodelist=[ego], node_size=100, node_color='y')\n",
        "nx.draw_networkx_labels(ego_network, pos, labels, font_size=20, font_color=\"r\", font_family=\"sans-serif\", verticalalignment=\"bottom\")\n",
        "plt.show()"
      ]
    },
    {
      "cell_type": "markdown",
      "metadata": {
        "id": "pdAkQu6XT486"
      },
      "source": [
        "\n",
        "## Conclusion\n",
        "\n",
        "In this lab work,I have shown how to analyze the graph, different measurements of graph like **diameter** and **average path** and also ***Ego Networks***.\n",
        "\n",
        "I have taken TWITTER dataset, but as the data is huge for load. So I have choosen ***few data*** (Number of rows: 5500)."
      ]
    }
  ],
  "metadata": {
    "colab": {
      "provenance": [],
      "toc_visible": true
    },
    "kernelspec": {
      "display_name": "Python 3",
      "name": "python3"
    }
  },
  "nbformat": 4,
  "nbformat_minor": 0
}
